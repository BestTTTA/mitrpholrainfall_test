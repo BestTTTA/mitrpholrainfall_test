{
 "cells": [
  {
   "cell_type": "markdown",
   "metadata": {},
   "source": [
    "![Alt text](image-1.png)"
   ]
  },
  {
   "cell_type": "code",
   "execution_count": null,
   "metadata": {},
   "outputs": [],
   "source": [
    "# %pip install -r requirements.txt\n",
    "# !pip install scikit-learn==1.2.2\n",
    "# !pip install openpyxl"
   ]
  },
  {
   "cell_type": "code",
   "execution_count": null,
   "metadata": {},
   "outputs": [],
   "source": [
    "import pickle\n",
    "import numpy as np\n",
    "import pandas as pd\n",
    "import sklearn\n",
    "\n",
    "filename = 'M5.pkl'     \n",
    "loaded_model = pickle.load(open(filename, 'rb'))\n",
    "df=pd.read_excel('CropCuttingCaneQuality_6667_forAIModel.xlsx', sheet_name='5MAC', parse_dates=True)\n"
   ]
  },
  {
   "cell_type": "code",
   "execution_count": null,
   "metadata": {},
   "outputs": [],
   "source": [
    "print (pd.__version__)"
   ]
  },
  {
   "cell_type": "code",
   "execution_count": null,
   "metadata": {},
   "outputs": [],
   "source": [
    "%pip install --upgrade pip"
   ]
  },
  {
   "cell_type": "code",
   "execution_count": null,
   "metadata": {},
   "outputs": [],
   "source": [
    "import sklearn\n",
    "print(sklearn.__version__)\n"
   ]
  },
  {
   "cell_type": "code",
   "execution_count": null,
   "metadata": {},
   "outputs": [],
   "source": [
    "import xgboost\n",
    "xgboost.__version__"
   ]
  },
  {
   "cell_type": "code",
   "execution_count": null,
   "metadata": {},
   "outputs": [],
   "source": [
    "#brix\n",
    "#chosse T1 - T6\n",
    "# input month 6-12\n",
    "# CSS"
   ]
  },
  {
   "cell_type": "code",
   "execution_count": null,
   "metadata": {},
   "outputs": [],
   "source": [
    "\n",
    "def fiber_T1(x):\n",
    "    a,b,c,d=[  2.01379247, -20.78037567,   3.5155386,  11.00677066]\n",
    "    g=a*np.log(c+(b/x)+(b/x**2))+d\n",
    "    return g\n",
    "\n",
    "def fiber_T2(x):\n",
    "    a,b,c,d=[  2.59140136, -20.42160029,   3.9202099,  10.15451078]\n",
    "    g=a*np.log(c+(b/x)+(b/x**2))+d\n",
    "    return g\n",
    "\n",
    "\n",
    "def fiber_T3(x):\n",
    "    a,b,c,d=[12.9574611, -4.9670637,   2.73127967,  1.02561215]\n",
    "    g=a*np.log(c+(b/x)+(b/x**2))+d\n",
    "    return g\n",
    "\n",
    "def fiber_T4(x):\n",
    "    a,b,c,d=[  4.62564942, -17.53919804,   3.66075841,  10.03896733]\n",
    "    g=a*np.log(c+(b/x)+(b/x**2))+d\n",
    "    return g\n",
    "\n",
    "def fiber_T5(x):\n",
    "    a,b,c,d=[  1.02179087, -22.92415521,   3.80403583,  12.04063676]\n",
    "    g=a*np.log(c+(b/x)+(b/x**2))+d\n",
    "    return g\n",
    "\n",
    "def fiber_T6(x):\n",
    "    a,b,c,d=[  3.29687238, -19.58092598,   4.08787093,  10.41188387]\n",
    "    g=a*np.log(c+(b/x)+(b/x**2))+d\n",
    "    return g"
   ]
  },
  {
   "cell_type": "code",
   "execution_count": null,
   "metadata": {},
   "outputs": [],
   "source": [
    "df = pd.DataFrame(df)\n",
    "df_temp = pd.DataFrame(df)"
   ]
  },
  {
   "cell_type": "code",
   "execution_count": null,
   "metadata": {},
   "outputs": [],
   "source": [
    "df = df[['cane_ac_date','BrixFleld','CCS']]"
   ]
  },
  {
   "cell_type": "code",
   "execution_count": null,
   "metadata": {},
   "outputs": [],
   "source": [
    "df['cane_ac_date'] = pd.to_datetime(df['cane_ac_date'])\n",
    "df['month'] = df['cane_ac_date'].dt.month\n",
    "df['month']"
   ]
  },
  {
   "cell_type": "code",
   "execution_count": null,
   "metadata": {},
   "outputs": [],
   "source": [
    "def assign_fiber(row):\n",
    "    if 5 <= row['month'] <= 10:\n",
    "        return fiber_T6(row['month'])\n",
    "    elif row['month'] > 10 :\n",
    "        return fiber_T3(row['month'])\n",
    "\n",
    "# Apply the function to each row\n",
    "df['Fb'] = df.apply(assign_fiber, axis=1)\n",
    "\n",
    "# To see the updated DataFrame\n",
    "print(df)\n"
   ]
  },
  {
   "cell_type": "code",
   "execution_count": null,
   "metadata": {},
   "outputs": [],
   "source": [
    "df.dropna(inplace=True)"
   ]
  },
  {
   "cell_type": "code",
   "execution_count": null,
   "metadata": {},
   "outputs": [],
   "source": [
    "test=pd.DataFrame({'BrixF':df['BrixFleld'],'Fiber':df['Fb']})"
   ]
  },
  {
   "cell_type": "code",
   "execution_count": null,
   "metadata": {},
   "outputs": [],
   "source": [
    "result = loaded_model.predict(test)\n",
    "df['CCSpre'] = result\n",
    "print('CCS is',result)"
   ]
  },
  {
   "cell_type": "code",
   "execution_count": null,
   "metadata": {},
   "outputs": [],
   "source": [
    "df"
   ]
  },
  {
   "cell_type": "code",
   "execution_count": null,
   "metadata": {},
   "outputs": [],
   "source": [
    "month=8 #6-12\n",
    "fb=fiber_T1(month)\n",
    "fb"
   ]
  },
  {
   "cell_type": "code",
   "execution_count": null,
   "metadata": {},
   "outputs": [],
   "source": [
    "test=pd.DataFrame({'BrixF':[15],'Fiber':[fb]})"
   ]
  },
  {
   "cell_type": "code",
   "execution_count": null,
   "metadata": {},
   "outputs": [],
   "source": [
    "result = loaded_model.predict(test)\n",
    "print('CCS is',result)"
   ]
  },
  {
   "cell_type": "code",
   "execution_count": null,
   "metadata": {},
   "outputs": [],
   "source": [
    "df=pd.read_excel('CropCuttingCaneQuality_6667_forALModel.xlsx', sheet_name='1MPK')"
   ]
  },
  {
   "cell_type": "code",
   "execution_count": null,
   "metadata": {},
   "outputs": [],
   "source": [
    "df"
   ]
  },
  {
   "cell_type": "code",
   "execution_count": null,
   "metadata": {},
   "outputs": [],
   "source": [
    "testex=df[['Brixlab','Fiber (%)']]"
   ]
  },
  {
   "cell_type": "code",
   "execution_count": null,
   "metadata": {},
   "outputs": [],
   "source": [
    "testex.rename(columns = {'Brixlab':'BrixF', 'Fiber (%)':'Fiber'}, inplace = True)"
   ]
  },
  {
   "cell_type": "code",
   "execution_count": null,
   "metadata": {},
   "outputs": [],
   "source": [
    "testex"
   ]
  },
  {
   "cell_type": "code",
   "execution_count": null,
   "metadata": {},
   "outputs": [],
   "source": [
    "result = loaded_model.predict(testex)"
   ]
  },
  {
   "cell_type": "code",
   "execution_count": null,
   "metadata": {},
   "outputs": [],
   "source": [
    "result"
   ]
  },
  {
   "cell_type": "code",
   "execution_count": null,
   "metadata": {},
   "outputs": [],
   "source": [
    "\n",
    "y_pred=pd.DataFrame(result)\n",
    "y_pred"
   ]
  }
 ],
 "metadata": {
  "kernelspec": {
   "display_name": "pycaret",
   "language": "python",
   "name": "python3"
  },
  "language_info": {
   "codemirror_mode": {
    "name": "ipython",
    "version": 3
   },
   "file_extension": ".py",
   "mimetype": "text/x-python",
   "name": "python",
   "nbconvert_exporter": "python",
   "pygments_lexer": "ipython3",
   "version": "3.11.5"
  },
  "orig_nbformat": 4
 },
 "nbformat": 4,
 "nbformat_minor": 2
}
