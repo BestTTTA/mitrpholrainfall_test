{
 "cells": [
  {
   "cell_type": "markdown",
   "metadata": {},
   "source": [
    "![Alt text](image-1.png)"
   ]
  },
  {
   "cell_type": "code",
   "execution_count": 1,
   "metadata": {},
   "outputs": [
    {
     "name": "stdout",
     "output_type": "stream",
     "text": [
      "Requirement already satisfied: asttokens==2.4.1 in /usr/local/lib/python3.9/site-packages (from -r requirements.txt (line 1)) (2.4.1)\n",
      "Requirement already satisfied: comm==0.2.1 in /usr/local/lib/python3.9/site-packages (from -r requirements.txt (line 2)) (0.2.1)\n",
      "Requirement already satisfied: debugpy==1.8.0 in /usr/local/lib/python3.9/site-packages (from -r requirements.txt (line 3)) (1.8.0)\n",
      "Requirement already satisfied: decorator==5.1.1 in /usr/local/lib/python3.9/site-packages (from -r requirements.txt (line 4)) (5.1.1)\n",
      "Requirement already satisfied: distlib==0.3.6 in /usr/local/lib/python3.9/site-packages (from -r requirements.txt (line 5)) (0.3.6)\n",
      "Requirement already satisfied: exceptiongroup==1.2.0 in /usr/local/lib/python3.9/site-packages (from -r requirements.txt (line 6)) (1.2.0)\n",
      "Requirement already satisfied: executing==2.0.1 in /usr/local/lib/python3.9/site-packages (from -r requirements.txt (line 7)) (2.0.1)\n",
      "Requirement already satisfied: filelock==3.8.0 in /usr/local/lib/python3.9/site-packages (from -r requirements.txt (line 8)) (3.8.0)\n",
      "Requirement already satisfied: ipykernel==6.29.0 in /usr/local/lib/python3.9/site-packages (from -r requirements.txt (line 9)) (6.29.0)\n",
      "Requirement already satisfied: ipython==8.18.1 in /usr/local/lib/python3.9/site-packages (from -r requirements.txt (line 10)) (8.18.1)\n",
      "Requirement already satisfied: jedi==0.19.1 in /usr/local/lib/python3.9/site-packages (from -r requirements.txt (line 11)) (0.19.1)\n",
      "Requirement already satisfied: joblib==1.3.2 in /usr/local/lib/python3.9/site-packages (from -r requirements.txt (line 12)) (1.3.2)\n",
      "Requirement already satisfied: jupyter_client==8.6.0 in /usr/local/lib/python3.9/site-packages (from -r requirements.txt (line 13)) (8.6.0)\n",
      "Requirement already satisfied: jupyter_core==5.7.1 in /usr/local/lib/python3.9/site-packages (from -r requirements.txt (line 14)) (5.7.1)\n",
      "Requirement already satisfied: nest-asyncio==1.6.0 in /usr/local/lib/python3.9/site-packages (from -r requirements.txt (line 15)) (1.6.0)\n",
      "Requirement already satisfied: numpy==1.26.3 in /usr/local/lib/python3.9/site-packages (from -r requirements.txt (line 16)) (1.26.3)\n",
      "Requirement already satisfied: packaging==23.2 in /usr/local/lib/python3.9/site-packages (from -r requirements.txt (line 17)) (23.2)\n",
      "Requirement already satisfied: pandas==1.5.3 in /usr/local/lib/python3.9/site-packages (from -r requirements.txt (line 18)) (1.5.3)\n",
      "Requirement already satisfied: parso==0.8.3 in /usr/local/lib/python3.9/site-packages (from -r requirements.txt (line 19)) (0.8.3)\n",
      "Requirement already satisfied: pexpect==4.9.0 in /usr/local/lib/python3.9/site-packages (from -r requirements.txt (line 20)) (4.9.0)\n",
      "Requirement already satisfied: platformdirs==2.5.2 in /usr/local/lib/python3.9/site-packages (from -r requirements.txt (line 21)) (2.5.2)\n",
      "Requirement already satisfied: prompt-toolkit==3.0.43 in /usr/local/lib/python3.9/site-packages (from -r requirements.txt (line 22)) (3.0.43)\n",
      "Requirement already satisfied: psutil==5.9.8 in /usr/local/lib/python3.9/site-packages (from -r requirements.txt (line 23)) (5.9.8)\n",
      "Requirement already satisfied: ptyprocess==0.7.0 in /usr/local/lib/python3.9/site-packages (from -r requirements.txt (line 24)) (0.7.0)\n",
      "Requirement already satisfied: pure-eval==0.2.2 in /usr/local/lib/python3.9/site-packages (from -r requirements.txt (line 25)) (0.2.2)\n",
      "Requirement already satisfied: Pygments==2.17.2 in /usr/local/lib/python3.9/site-packages (from -r requirements.txt (line 26)) (2.17.2)\n",
      "Requirement already satisfied: python-dateutil==2.8.2 in /usr/local/lib/python3.9/site-packages (from -r requirements.txt (line 27)) (2.8.2)\n",
      "Requirement already satisfied: pytz==2023.3.post1 in /usr/local/lib/python3.9/site-packages (from -r requirements.txt (line 28)) (2023.3.post1)\n",
      "Requirement already satisfied: pyzmq==25.1.2 in /usr/local/lib/python3.9/site-packages (from -r requirements.txt (line 29)) (25.1.2)\n",
      "Collecting scikit-learn==1.1.1 (from -r requirements.txt (line 30))\n",
      "  Using cached scikit_learn-1.1.1-cp39-cp39-manylinux_2_17_x86_64.manylinux2014_x86_64.whl (30.8 MB)\n",
      "Requirement already satisfied: scipy==1.12.0 in /usr/local/lib/python3.9/site-packages (from -r requirements.txt (line 31)) (1.12.0)\n",
      "Requirement already satisfied: threadpoolctl==3.2.0 in /usr/local/lib/python3.9/site-packages (from -r requirements.txt (line 32)) (3.2.0)\n",
      "Requirement already satisfied: tornado==6.4 in /usr/local/lib/python3.9/site-packages (from -r requirements.txt (line 33)) (6.4)\n",
      "Requirement already satisfied: traitlets==5.14.1 in /usr/local/lib/python3.9/site-packages (from -r requirements.txt (line 34)) (5.14.1)\n",
      "Requirement already satisfied: typing_extensions==4.9.0 in /usr/local/lib/python3.9/site-packages (from -r requirements.txt (line 35)) (4.9.0)\n",
      "Requirement already satisfied: tzdata==2023.4 in /usr/local/lib/python3.9/site-packages (from -r requirements.txt (line 36)) (2023.4)\n",
      "Requirement already satisfied: virtualenv==20.16.5 in /usr/local/lib/python3.9/site-packages (from -r requirements.txt (line 37)) (20.16.5)\n",
      "Requirement already satisfied: wcwidth==0.2.13 in /usr/local/lib/python3.9/site-packages (from -r requirements.txt (line 38)) (0.2.13)\n",
      "Requirement already satisfied: xgboost==2.0.3 in /usr/local/lib/python3.9/site-packages (from -r requirements.txt (line 39)) (2.0.3)\n",
      "Requirement already satisfied: zipp==3.17.0 in /usr/local/lib/python3.9/site-packages (from -r requirements.txt (line 40)) (3.17.0)\n",
      "Requirement already satisfied: six>=1.12.0 in /usr/local/lib/python3.9/site-packages (from asttokens==2.4.1->-r requirements.txt (line 1)) (1.16.0)\n",
      "Requirement already satisfied: matplotlib-inline>=0.1 in /usr/local/lib/python3.9/site-packages (from ipykernel==6.29.0->-r requirements.txt (line 9)) (0.1.6)\n",
      "Requirement already satisfied: stack-data in /usr/local/lib/python3.9/site-packages (from ipython==8.18.1->-r requirements.txt (line 10)) (0.6.3)\n",
      "Requirement already satisfied: importlib-metadata>=4.8.3 in /usr/local/lib/python3.9/site-packages (from jupyter_client==8.6.0->-r requirements.txt (line 13)) (7.0.1)\n",
      "Installing collected packages: scikit-learn\n",
      "  Attempting uninstall: scikit-learn\n",
      "    Found existing installation: scikit-learn 1.2.2\n",
      "    Uninstalling scikit-learn-1.2.2:\n",
      "      Successfully uninstalled scikit-learn-1.2.2\n",
      "Successfully installed scikit-learn-1.1.1\n",
      "\u001b[33mWARNING: Running pip as the 'root' user can result in broken permissions and conflicting behaviour with the system package manager. It is recommended to use a virtual environment instead: https://pip.pypa.io/warnings/venv\u001b[0m\u001b[33m\n",
      "\u001b[0mNote: you may need to restart the kernel to use updated packages.\n"
     ]
    }
   ],
   "source": [
    "%pip install -r requirements.txt"
   ]
  },
  {
   "cell_type": "code",
   "execution_count": 2,
   "metadata": {},
   "outputs": [
    {
     "name": "stderr",
     "output_type": "stream",
     "text": [
      "/usr/local/lib/python3.9/site-packages/xgboost/core.py:160: UserWarning: [20:28:25] WARNING: /workspace/src/common/error_msg.h:80: If you are loading a serialized model (like pickle in Python, RDS in R) or\n",
      "configuration generated by an older version of XGBoost, please export the model by calling\n",
      "`Booster.save_model` from that version first, then load it back in current version. See:\n",
      "\n",
      "    https://xgboost.readthedocs.io/en/stable/tutorials/saving_model.html\n",
      "\n",
      "for more details about differences between saving model and serializing.\n",
      "\n",
      "  warnings.warn(smsg, UserWarning)\n",
      "/usr/local/lib/python3.9/site-packages/sklearn/base.py:329: UserWarning: Trying to unpickle estimator GridSearchCV from version 1.2.2 when using version 1.1.1. This might lead to breaking code or invalid results. Use at your own risk. For more info please refer to:\n",
      "https://scikit-learn.org/stable/model_persistence.html#security-maintainability-limitations\n",
      "  warnings.warn(\n"
     ]
    }
   ],
   "source": [
    "import pickle\n",
    "import numpy as np\n",
    "import pandas as pd\n",
    "import sklearn\n",
    "\n",
    "filename = 'M4.pkl'     \n",
    "loaded_model = pickle.load(open(filename, 'rb'))\n",
    "df=pd.read_excel('CropCuttingCaneQuality_6667_forAIModel_copy.xlsx', sheet_name='4MPL')\n"
   ]
  },
  {
   "cell_type": "code",
   "execution_count": 3,
   "metadata": {},
   "outputs": [
    {
     "name": "stdout",
     "output_type": "stream",
     "text": [
      "0      8.872707\n",
      "1      8.411758\n",
      "2     11.715379\n",
      "3      7.933830\n",
      "4      6.738529\n",
      "5      7.545785\n",
      "6      4.610707\n",
      "7      7.524668\n",
      "8      7.275450\n",
      "9      7.693900\n",
      "10     7.608563\n",
      "11     7.914420\n",
      "12     4.560245\n",
      "13     6.360925\n",
      "14     7.305842\n",
      "15     7.064996\n",
      "16     7.542232\n",
      "17    10.224786\n",
      "18     9.895551\n",
      "19    10.022465\n",
      "20     9.935836\n",
      "21     7.635785\n",
      "22     7.483128\n",
      "23     5.225668\n",
      "24     4.366315\n",
      "25     5.664991\n",
      "26     6.585006\n",
      "27     3.525053\n",
      "28     3.847697\n",
      "29    11.305289\n",
      "30     1.672165\n",
      "31     6.691492\n",
      "32     9.421802\n",
      "33     3.214096\n",
      "34     5.184548\n",
      "35     8.989204\n",
      "36     6.673454\n",
      "37     8.133033\n",
      "38     7.132259\n",
      "39     8.468357\n",
      "40     7.911949\n",
      "41     9.683354\n",
      "42     8.911019\n",
      "43     7.373005\n",
      "44     7.971965\n",
      "45     8.897479\n",
      "46     8.770144\n",
      "47     5.400875\n",
      "48     7.656803\n",
      "49     9.836624\n",
      "50    10.085688\n",
      "51     8.076333\n",
      "52     6.413389\n",
      "53     6.510947\n",
      "54     5.502508\n",
      "55     5.666206\n",
      "56     9.891885\n",
      "57     7.345885\n",
      "58     9.483689\n",
      "59    10.563093\n",
      "Name: CCS, dtype: float64\n"
     ]
    }
   ],
   "source": [
    "CCS = df['CCS']\n",
    "print(CCS)\n"
   ]
  },
  {
   "cell_type": "code",
   "execution_count": 4,
   "metadata": {},
   "outputs": [
    {
     "name": "stdout",
     "output_type": "stream",
     "text": [
      "Collecting scikit-learn==1.2.2\n",
      "  Using cached scikit_learn-1.2.2-cp39-cp39-manylinux_2_17_x86_64.manylinux2014_x86_64.whl (9.6 MB)\n",
      "Requirement already satisfied: numpy>=1.17.3 in /usr/local/lib/python3.9/site-packages (from scikit-learn==1.2.2) (1.26.3)\n",
      "Requirement already satisfied: scipy>=1.3.2 in /usr/local/lib/python3.9/site-packages (from scikit-learn==1.2.2) (1.12.0)\n",
      "Requirement already satisfied: joblib>=1.1.1 in /usr/local/lib/python3.9/site-packages (from scikit-learn==1.2.2) (1.3.2)\n",
      "Requirement already satisfied: threadpoolctl>=2.0.0 in /usr/local/lib/python3.9/site-packages (from scikit-learn==1.2.2) (3.2.0)\n",
      "Installing collected packages: scikit-learn\n",
      "  Attempting uninstall: scikit-learn\n",
      "    Found existing installation: scikit-learn 1.1.1\n",
      "    Uninstalling scikit-learn-1.1.1:\n",
      "      Successfully uninstalled scikit-learn-1.1.1\n",
      "Successfully installed scikit-learn-1.2.2\n",
      "\u001b[33mWARNING: Running pip as the 'root' user can result in broken permissions and conflicting behaviour with the system package manager. It is recommended to use a virtual environment instead: https://pip.pypa.io/warnings/venv\u001b[0m\u001b[33m\n",
      "\u001b[0m"
     ]
    }
   ],
   "source": [
    "!pip install scikit-learn==1.2.2"
   ]
  },
  {
   "cell_type": "code",
   "execution_count": 5,
   "metadata": {},
   "outputs": [
    {
     "name": "stdout",
     "output_type": "stream",
     "text": [
      "Python 3.9.7\n"
     ]
    }
   ],
   "source": [
    "!python --version"
   ]
  },
  {
   "cell_type": "code",
   "execution_count": 6,
   "metadata": {},
   "outputs": [
    {
     "name": "stdout",
     "output_type": "stream",
     "text": [
      "1.5.3\n"
     ]
    }
   ],
   "source": [
    "print (pd.__version__)"
   ]
  },
  {
   "cell_type": "code",
   "execution_count": 7,
   "metadata": {},
   "outputs": [
    {
     "name": "stdout",
     "output_type": "stream",
     "text": [
      "Requirement already satisfied: pip in /usr/local/lib/python3.9/site-packages (23.3.2)\n",
      "\u001b[33mWARNING: Running pip as the 'root' user can result in broken permissions and conflicting behaviour with the system package manager. It is recommended to use a virtual environment instead: https://pip.pypa.io/warnings/venv\u001b[0m\u001b[33m\n",
      "\u001b[0mNote: you may need to restart the kernel to use updated packages.\n"
     ]
    }
   ],
   "source": [
    "%pip install --upgrade pip"
   ]
  },
  {
   "cell_type": "code",
   "execution_count": 8,
   "metadata": {},
   "outputs": [
    {
     "data": {
      "text/plain": [
       "'2.0.3'"
      ]
     },
     "execution_count": 8,
     "metadata": {},
     "output_type": "execute_result"
    }
   ],
   "source": [
    "import xgboost\n",
    "xgboost.__version__"
   ]
  },
  {
   "cell_type": "code",
   "execution_count": 9,
   "metadata": {},
   "outputs": [],
   "source": [
    "#brix\n",
    "#chosse T1 - T6\n",
    "# input month 6-12\n",
    "# CSS"
   ]
  },
  {
   "cell_type": "code",
   "execution_count": 10,
   "metadata": {},
   "outputs": [],
   "source": [
    "\n",
    "# def fiber_T1(x):\n",
    "#     a,b,c,d=[  2.01379247, -20.78037567,   3.5155386,  11.00677066]\n",
    "#     g=a*np.log(c+(b/x)+(b/x**2))+d\n",
    "#     return g\n",
    "\n",
    "# def fiber_T2(x):\n",
    "#     a,b,c,d=[  2.59140136, -20.42160029,   3.9202099,  10.15451078]\n",
    "#     g=a*np.log(c+(b/x)+(b/x**2))+d\n",
    "#     return g\n",
    "\n",
    "\n",
    "def fiber_T3(x):\n",
    "    a,b,c,d=[12.9574611, -4.9670637,   2.73127967,  1.02561215]\n",
    "    g=a*np.log(c+(b/x)+(b/x**2))+d\n",
    "    return g\n",
    "\n",
    "# def fiber_T4(x):\n",
    "#     a,b,c,d=[  4.62564942, -17.53919804,   3.66075841,  10.03896733]\n",
    "#     g=a*np.log(c+(b/x)+(b/x**2))+d\n",
    "#     return g\n",
    "\n",
    "# def fiber_T5(x):\n",
    "#     a,b,c,d=[  1.02179087, -22.92415521,   3.80403583,  12.04063676]\n",
    "#     g=a*np.log(c+(b/x)+(b/x**2))+d\n",
    "    return g\n",
    "\n",
    "def fiber_T6(x):\n",
    "    a,b,c,d=[  3.29687238, -19.58092598,   4.08787093,  10.41188387]\n",
    "    g=a*np.log(c+(b/x)+(b/x**2))+d\n",
    "    return g"
   ]
  },
  {
   "cell_type": "code",
   "execution_count": 11,
   "metadata": {},
   "outputs": [
    {
     "name": "stdout",
     "output_type": "stream",
     "text": [
      "Month 6: 6.220592091858717\n",
      "Month 7: 10.031333724087903\n",
      "Month 8: 11.36273225682048\n",
      "Month 9: 12.103530903057358\n",
      "Month 10: 12.58641650932143\n",
      "Month 11: 11.467844138611163\n",
      "Month 12: 11.721100686020618\n"
     ]
    }
   ],
   "source": [
    "for month in range(6, 13):  # Loop from 6 to 12\n",
    "    if month <= 10:\n",
    "        result = fiber_T6(month)\n",
    "    else:\n",
    "        result = fiber_T3(month)\n",
    "    print(f\"Month {month}: {result}\")"
   ]
  },
  {
   "cell_type": "code",
   "execution_count": 12,
   "metadata": {},
   "outputs": [],
   "source": [
    "# 10.4609211 avg month 6-10"
   ]
  },
  {
   "cell_type": "markdown",
   "metadata": {},
   "source": [
    "สำหรับ 4 "
   ]
  },
  {
   "cell_type": "code",
   "execution_count": 13,
   "metadata": {},
   "outputs": [],
   "source": [
    "df = df.dropna()\n",
    "df.dropna(inplace=True)\n"
   ]
  },
  {
   "cell_type": "code",
   "execution_count": 14,
   "metadata": {},
   "outputs": [
    {
     "ename": "ValueError",
     "evalue": "Must have equal len keys and value when setting with an ndarray",
     "output_type": "error",
     "traceback": [
      "\u001b[0;31m---------------------------------------------------------------------------\u001b[0m",
      "\u001b[0;31mValueError\u001b[0m                                Traceback (most recent call last)",
      "Cell \u001b[0;32mIn[14], line 35\u001b[0m\n\u001b[1;32m     32\u001b[0m df[\u001b[38;5;124m'\u001b[39m\u001b[38;5;124mpredictCCS\u001b[39m\u001b[38;5;124m'\u001b[39m] \u001b[38;5;241m=\u001b[39m np\u001b[38;5;241m.\u001b[39mnan\n\u001b[1;32m     34\u001b[0m \u001b[38;5;66;03m# Assign the prediction results to the 'predictCCS' column for the rows that meet the condition\u001b[39;00m\n\u001b[0;32m---> 35\u001b[0m \u001b[43mdf\u001b[49m\u001b[38;5;241;43m.\u001b[39;49m\u001b[43mloc\u001b[49m\u001b[43m[\u001b[49m\u001b[43mcondition_indices\u001b[49m\u001b[43m,\u001b[49m\u001b[43m \u001b[49m\u001b[38;5;124;43m'\u001b[39;49m\u001b[38;5;124;43mpredictCCS\u001b[39;49m\u001b[38;5;124;43m'\u001b[39;49m\u001b[43m]\u001b[49m \u001b[38;5;241m=\u001b[39m result\n\u001b[1;32m     37\u001b[0m \u001b[38;5;66;03m# Now, df has a new column 'predictCCS' with the prediction results\u001b[39;00m\n\u001b[1;32m     38\u001b[0m \u001b[38;5;28mprint\u001b[39m(df[[\u001b[38;5;124m'\u001b[39m\u001b[38;5;124mcane_type_name\u001b[39m\u001b[38;5;124m'\u001b[39m, \u001b[38;5;124m'\u001b[39m\u001b[38;5;124mpredictCCS\u001b[39m\u001b[38;5;124m'\u001b[39m]])\n",
      "File \u001b[0;32m/usr/local/lib/python3.9/site-packages/pandas/core/indexing.py:818\u001b[0m, in \u001b[0;36m_LocationIndexer.__setitem__\u001b[0;34m(self, key, value)\u001b[0m\n\u001b[1;32m    815\u001b[0m \u001b[38;5;28mself\u001b[39m\u001b[38;5;241m.\u001b[39m_has_valid_setitem_indexer(key)\n\u001b[1;32m    817\u001b[0m iloc \u001b[38;5;241m=\u001b[39m \u001b[38;5;28mself\u001b[39m \u001b[38;5;28;01mif\u001b[39;00m \u001b[38;5;28mself\u001b[39m\u001b[38;5;241m.\u001b[39mname \u001b[38;5;241m==\u001b[39m \u001b[38;5;124m\"\u001b[39m\u001b[38;5;124miloc\u001b[39m\u001b[38;5;124m\"\u001b[39m \u001b[38;5;28;01melse\u001b[39;00m \u001b[38;5;28mself\u001b[39m\u001b[38;5;241m.\u001b[39mobj\u001b[38;5;241m.\u001b[39miloc\n\u001b[0;32m--> 818\u001b[0m \u001b[43miloc\u001b[49m\u001b[38;5;241;43m.\u001b[39;49m\u001b[43m_setitem_with_indexer\u001b[49m\u001b[43m(\u001b[49m\u001b[43mindexer\u001b[49m\u001b[43m,\u001b[49m\u001b[43m \u001b[49m\u001b[43mvalue\u001b[49m\u001b[43m,\u001b[49m\u001b[43m \u001b[49m\u001b[38;5;28;43mself\u001b[39;49m\u001b[38;5;241;43m.\u001b[39;49m\u001b[43mname\u001b[49m\u001b[43m)\u001b[49m\n",
      "File \u001b[0;32m/usr/local/lib/python3.9/site-packages/pandas/core/indexing.py:1795\u001b[0m, in \u001b[0;36m_iLocIndexer._setitem_with_indexer\u001b[0;34m(self, indexer, value, name)\u001b[0m\n\u001b[1;32m   1792\u001b[0m \u001b[38;5;66;03m# align and set the values\u001b[39;00m\n\u001b[1;32m   1793\u001b[0m \u001b[38;5;28;01mif\u001b[39;00m take_split_path:\n\u001b[1;32m   1794\u001b[0m     \u001b[38;5;66;03m# We have to operate column-wise\u001b[39;00m\n\u001b[0;32m-> 1795\u001b[0m     \u001b[38;5;28;43mself\u001b[39;49m\u001b[38;5;241;43m.\u001b[39;49m\u001b[43m_setitem_with_indexer_split_path\u001b[49m\u001b[43m(\u001b[49m\u001b[43mindexer\u001b[49m\u001b[43m,\u001b[49m\u001b[43m \u001b[49m\u001b[43mvalue\u001b[49m\u001b[43m,\u001b[49m\u001b[43m \u001b[49m\u001b[43mname\u001b[49m\u001b[43m)\u001b[49m\n\u001b[1;32m   1796\u001b[0m \u001b[38;5;28;01melse\u001b[39;00m:\n\u001b[1;32m   1797\u001b[0m     \u001b[38;5;28mself\u001b[39m\u001b[38;5;241m.\u001b[39m_setitem_single_block(indexer, value, name)\n",
      "File \u001b[0;32m/usr/local/lib/python3.9/site-packages/pandas/core/indexing.py:1834\u001b[0m, in \u001b[0;36m_iLocIndexer._setitem_with_indexer_split_path\u001b[0;34m(self, indexer, value, name)\u001b[0m\n\u001b[1;32m   1831\u001b[0m     \u001b[38;5;28mself\u001b[39m\u001b[38;5;241m.\u001b[39m_setitem_with_indexer_frame_value(indexer, value, name)\n\u001b[1;32m   1833\u001b[0m \u001b[38;5;28;01melif\u001b[39;00m np\u001b[38;5;241m.\u001b[39mndim(value) \u001b[38;5;241m==\u001b[39m \u001b[38;5;241m2\u001b[39m:\n\u001b[0;32m-> 1834\u001b[0m     \u001b[38;5;28;43mself\u001b[39;49m\u001b[38;5;241;43m.\u001b[39;49m\u001b[43m_setitem_with_indexer_2d_value\u001b[49m\u001b[43m(\u001b[49m\u001b[43mindexer\u001b[49m\u001b[43m,\u001b[49m\u001b[43m \u001b[49m\u001b[43mvalue\u001b[49m\u001b[43m)\u001b[49m\n\u001b[1;32m   1836\u001b[0m \u001b[38;5;28;01melif\u001b[39;00m \u001b[38;5;28mlen\u001b[39m(ilocs) \u001b[38;5;241m==\u001b[39m \u001b[38;5;241m1\u001b[39m \u001b[38;5;129;01mand\u001b[39;00m lplane_indexer \u001b[38;5;241m==\u001b[39m \u001b[38;5;28mlen\u001b[39m(value) \u001b[38;5;129;01mand\u001b[39;00m \u001b[38;5;129;01mnot\u001b[39;00m is_scalar(pi):\n\u001b[1;32m   1837\u001b[0m     \u001b[38;5;66;03m# We are setting multiple rows in a single column.\u001b[39;00m\n\u001b[1;32m   1838\u001b[0m     \u001b[38;5;28mself\u001b[39m\u001b[38;5;241m.\u001b[39m_setitem_single_column(ilocs[\u001b[38;5;241m0\u001b[39m], value, pi)\n",
      "File \u001b[0;32m/usr/local/lib/python3.9/site-packages/pandas/core/indexing.py:1900\u001b[0m, in \u001b[0;36m_iLocIndexer._setitem_with_indexer_2d_value\u001b[0;34m(self, indexer, value)\u001b[0m\n\u001b[1;32m   1898\u001b[0m value \u001b[38;5;241m=\u001b[39m np\u001b[38;5;241m.\u001b[39marray(value, dtype\u001b[38;5;241m=\u001b[39m\u001b[38;5;28mobject\u001b[39m)\n\u001b[1;32m   1899\u001b[0m \u001b[38;5;28;01mif\u001b[39;00m \u001b[38;5;28mlen\u001b[39m(ilocs) \u001b[38;5;241m!=\u001b[39m value\u001b[38;5;241m.\u001b[39mshape[\u001b[38;5;241m1\u001b[39m]:\n\u001b[0;32m-> 1900\u001b[0m     \u001b[38;5;28;01mraise\u001b[39;00m \u001b[38;5;167;01mValueError\u001b[39;00m(\n\u001b[1;32m   1901\u001b[0m         \u001b[38;5;124m\"\u001b[39m\u001b[38;5;124mMust have equal len keys and value when setting with an ndarray\u001b[39m\u001b[38;5;124m\"\u001b[39m\n\u001b[1;32m   1902\u001b[0m     )\n\u001b[1;32m   1904\u001b[0m \u001b[38;5;28;01mfor\u001b[39;00m i, loc \u001b[38;5;129;01min\u001b[39;00m \u001b[38;5;28menumerate\u001b[39m(ilocs):\n\u001b[1;32m   1905\u001b[0m     \u001b[38;5;66;03m# setting with a list, re-coerces\u001b[39;00m\n\u001b[1;32m   1906\u001b[0m     \u001b[38;5;28mself\u001b[39m\u001b[38;5;241m.\u001b[39m_setitem_single_column(loc, value[:, i]\u001b[38;5;241m.\u001b[39mtolist(), pi)\n",
      "\u001b[0;31mValueError\u001b[0m: Must have equal len keys and value when setting with an ndarray"
     ]
    }
   ],
   "source": [
    "condition = (df['cane_type_name'] == 'น้ำราด') | (df['cane_type_name'] == 'ตุลา') | (df['cane_type_name'] == 'ต้นฝน') | (df['cane_type_name'] == 'ตอ') | (df['cane_type_name'] == 'ตุลา')\n",
    "condition_indices = df[condition].index\n",
    "\n",
    "# Initialize an empty list for fiber values\n",
    "fiber_values = []\n",
    "\n",
    "# Loop through each row in the filtered DataFrame\n",
    "for idx in condition_indices:\n",
    "    if df.loc[idx, 'cane_type_name'] == 'ต้นฝน':\n",
    "        # If cane_type_name is 'ต้นฝน', use a specific fiber value\n",
    "        fiber_values.append(10.46)\n",
    "    else:\n",
    "        # For other conditions, use the default fiber value\n",
    "        fiber_values.append(11.5)\n",
    "\n",
    "# Extract 'BrixFleld' values for the filtered rows\n",
    "filtered_brixf_values = df.loc[condition_indices, 'BrixFleld'].tolist()\n",
    "\n",
    "# Create a new DataFrame for prediction\n",
    "test = pd.DataFrame({\n",
    "    'BrixF': filtered_brixf_values,\n",
    "    'Fiber': fiber_values\n",
    "})\n",
    "\n",
    "# Ensure data types are correct for the model\n",
    "test = test.astype({'BrixF': 'float', 'Fiber': 'float'})\n",
    "\n",
    "# Predict using the loaded model\n",
    "result = loaded_model.predict(test)\n",
    "\n",
    "# Initialize the 'predictCCS' column in the original DataFrame with NaN values\n",
    "df['predictCCS'] = np.nan\n",
    "\n",
    "# Assign the prediction results to the 'predictCCS' column for the rows that meet the condition\n",
    "df.loc[condition_indices, 'predictCCS'] = result\n",
    "\n",
    "# Now, df has a new column 'predictCCS' with the prediction results\n",
    "print(df[['cane_type_name', 'predictCCS']])"
   ]
  },
  {
   "cell_type": "markdown",
   "metadata": {},
   "source": [
    "สำหรับ 5"
   ]
  },
  {
   "cell_type": "code",
   "execution_count": 15,
   "metadata": {},
   "outputs": [
    {
     "name": "stdout",
     "output_type": "stream",
     "text": [
      "CCS is []\n"
     ]
    }
   ],
   "source": [
    "result = loaded_model.predict(test)\n",
    "print('CCS is',result)"
   ]
  },
  {
   "cell_type": "code",
   "execution_count": null,
   "metadata": {},
   "outputs": [],
   "source": [
    "print(\"Length of CCS:\", len(CCS))\n",
    "print(\"Length of result:\", len(result))\n"
   ]
  },
  {
   "cell_type": "code",
   "execution_count": null,
   "metadata": {},
   "outputs": [],
   "source": [
    "from sklearn.metrics import mean_squared_error\n",
    "mse = mean_squared_error(CCS, result)"
   ]
  },
  {
   "cell_type": "code",
   "execution_count": null,
   "metadata": {},
   "outputs": [],
   "source": [
    "# Print all column names in the DataFrame\n",
    "print(df.columns)\n"
   ]
  },
  {
   "cell_type": "code",
   "execution_count": null,
   "metadata": {},
   "outputs": [],
   "source": [
    "df"
   ]
  },
  {
   "cell_type": "code",
   "execution_count": null,
   "metadata": {},
   "outputs": [],
   "source": [
    "testex.rename(columns = {'Brixlab':'BrixF', 'Fiber (%)':'Fiber'}, inplace = True)"
   ]
  },
  {
   "cell_type": "code",
   "execution_count": null,
   "metadata": {},
   "outputs": [],
   "source": [
    "testex"
   ]
  },
  {
   "cell_type": "code",
   "execution_count": null,
   "metadata": {},
   "outputs": [],
   "source": [
    "result = loaded_model.predict(testex)"
   ]
  },
  {
   "cell_type": "code",
   "execution_count": null,
   "metadata": {},
   "outputs": [],
   "source": [
    "result"
   ]
  },
  {
   "cell_type": "code",
   "execution_count": null,
   "metadata": {},
   "outputs": [],
   "source": [
    "\n",
    "y_pred=pd.DataFrame(result)\n",
    "y_pred"
   ]
  },
  {
   "cell_type": "code",
   "execution_count": null,
   "metadata": {},
   "outputs": [],
   "source": []
  },
  {
   "cell_type": "code",
   "execution_count": null,
   "metadata": {},
   "outputs": [],
   "source": []
  },
  {
   "cell_type": "code",
   "execution_count": null,
   "metadata": {},
   "outputs": [],
   "source": []
  }
 ],
 "metadata": {
  "kernelspec": {
   "display_name": "Python 3 (ipykernel)",
   "language": "python",
   "name": "python3"
  },
  "language_info": {
   "codemirror_mode": {
    "name": "ipython",
    "version": 3
   },
   "file_extension": ".py",
   "mimetype": "text/x-python",
   "name": "python",
   "nbconvert_exporter": "python",
   "pygments_lexer": "ipython3",
   "version": "3.9.7"
  }
 },
 "nbformat": 4,
 "nbformat_minor": 4
}
